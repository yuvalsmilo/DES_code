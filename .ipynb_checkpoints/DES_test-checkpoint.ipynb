{
 "cells": [
  {
   "cell_type": "code",
   "execution_count": 63,
   "id": "afe55622-38be-4892-b2c4-12aff97acf09",
   "metadata": {},
   "outputs": [],
   "source": [
    "# Load components\n",
    "import landlab\n",
    "import numpy as np\n",
    "import matplotlib.pyplot as plt\n",
    "from landlab import RasterModelGrid\n",
    "import pandas as pd"
   ]
  },
  {
   "cell_type": "code",
   "execution_count": 64,
   "id": "c8df053f-c661-4b02-bf2b-0841a0229eee",
   "metadata": {},
   "outputs": [],
   "source": [
    "# Domain parameters\n",
    "nrows = 6\n",
    "ncols = 3\n",
    "dx = 10"
   ]
  },
  {
   "cell_type": "code",
   "execution_count": 65,
   "id": "3c4f9aec-4fbf-4e72-a14f-64643a1ce526",
   "metadata": {},
   "outputs": [],
   "source": [
    "grid = RasterModelGrid((int(nrows), int(ncols)), xy_spacing=int(dx))\n",
    "grid.set_closed_boundaries_at_grid_edges(True, True, True, False)\n",
    "topo = grid.add_zeros('topographic__elevation', at='node')\n",
    "flux_capacitor = grid.add_zeros('flux_capacitor', at='node')\n",
    "sediment_flux = grid.add_zeros('sediment_flux', at='link')\n",
    "R = grid.add_zeros('R', at='node')\n",
    "\n",
    "Qlist = pd.DataFrame(columns=('node_id','dts','update_time'))"
   ]
  },
  {
   "cell_type": "code",
   "execution_count": 66,
   "id": "e65b6edc-bfac-4d54-af1c-6df4ef53a17c",
   "metadata": {},
   "outputs": [],
   "source": [
    "# Global parameters\n",
    "uplift_rate = 0.01\n",
    "diffusivity = 0.1\n",
    "_ALPHA = 0.7\n",
    "_CORE_NODES =  grid.core_nodes\n",
    "_flatten_nodes = grid.nodes.flatten()\n",
    "delta_f_max = 1 # delta_f_max > 0\n",
    "w_lim = 0.5 # 0 < w_lim <=1\n",
    "lamda_min = 1.1 # lambda_min >1"
   ]
  },
  {
   "cell_type": "code",
   "execution_count": 67,
   "id": "f1bf0b5f-39c3-4f2c-8f97-49bedbdc1bfa",
   "metadata": {},
   "outputs": [],
   "source": [
    "t_clock = 0.0 # simulation elapsed time"
   ]
  },
  {
   "cell_type": "code",
   "execution_count": 68,
   "id": "eb5793dc-1e79-4806-a442-7e5e775b6eb2",
   "metadata": {},
   "outputs": [],
   "source": [
    "topo_grad_at_link = grid.calc_grad_at_link('topographic__elevation', out=None)\n",
    "flux_at_link = diffusivity * topo_grad_at_link\n",
    "outlinks_at_node = grid.link_at_node_is_downwind(topo_grad_at_link)\n"
   ]
  },
  {
   "cell_type": "code",
   "execution_count": 69,
   "id": "dc0312ca-9297-4b69-adf9-26462862fb85",
   "metadata": {},
   "outputs": [],
   "source": [
    "\n",
    "topo_grad_at_link = grid.calc_grad_at_link('topographic__elevation', out=None)\n",
    "CFL_prefactor = (\n",
    "            _ALPHA  * grid.length_of_link[: grid.number_of_links] ** 2.0\n",
    "        )\n",
    "dt_at_links = np.abs(\n",
    "    np.divide(CFL_prefactor,\n",
    "              diffusivity, \n",
    "             )\n",
    "    )\n",
    "cfl_dt_at_nodes  = grid.map_min_of_node_links_to_node(dt_at_links)\n",
    "                        \n",
    "sorted_ids = np.argsort(cfl_dt_at_nodes)\n",
    "Qlist['node_id'] = _flatten_nodes[sorted_ids]\n",
    "Qlist['t_p'] = cfl_dt_at_nodes[sorted_ids] # dt at node\n",
    "Qlist['next_update_time'] = t_clock + Qlist['t_p']"
   ]
  },
  {
   "cell_type": "code",
   "execution_count": 77,
   "id": "b4c40371-26db-4b79-af47-dbb475e921a4",
   "metadata": {},
   "outputs": [],
   "source": [
    "## Event processing\n",
    "# Select the event with the smallest timestamp\n",
    "node_id_at_work = Qlist.loc[0,'node_id']\n",
    "node_next_update_time  = Qlist.loc[0,'next_update_time']\n",
    "\n",
    "\n",
    "# Calc out and in fluxes\n",
    "sediment_flux[grid.links_at_node[node_id_at_work]] = topo_grad_at_link[grid.links_at_node[node_id_at_work]] * grid.link_dirs_at_node[node_id_at_work] * diffusivity\n",
    "\n",
    "fluxes_out = np.greater(sediment_flux[grid.links_at_node[node_id_at_work]],\n",
    "                       0, out = np.zeros_like(grid.links_at_node[node_id_at_work]))\n",
    "            \n",
    "fluxes_in = np.greater(-sediment_flux[grid.links_at_node[node_id_at_work]],\n",
    "                       0, out = np.zeros_like(grid.links_at_node[node_id_at_work]))\n",
    "\n",
    "R[node_id_at_work] = ((np.sum(fluxes_in) - np.sum(fluxes_out)) / grid.dx) + uplift_rate\n"
   ]
  },
  {
   "cell_type": "code",
   "execution_count": 78,
   "id": "1b7e8c39-7f80-4496-86a0-ed34ddb69cfe",
   "metadata": {},
   "outputs": [
    {
     "data": {
      "text/plain": [
       "0.01"
      ]
     },
     "execution_count": 78,
     "metadata": {},
     "output_type": "execute_result"
    }
   ],
   "source": []
  },
  {
   "cell_type": "code",
   "execution_count": 10,
   "id": "016148a5-3ca9-4bf6-8267-856d9fdeca9e",
   "metadata": {},
   "outputs": [
    {
     "data": {
      "text/plain": [
       "0"
      ]
     },
     "execution_count": 10,
     "metadata": {},
     "output_type": "execute_result"
    }
   ],
   "source": [
    "\n",
    "# Execute event\n",
    "topo[node_id_at_work] += R[node_id_at_work] * (node_next_update_time - t_clock)\n",
    "\n",
    "# Update global time\n",
    "t_clock += node_next_update_time - t_clock\n",
    "\n",
    "# Zero out flux capacitor\n",
    "flux_capacitor[node_id_at_work] = 0.0"
   ]
  },
  {
   "cell_type": "code",
   "execution_count": 14,
   "id": "25f4952a-c165-4a64-bdce-a59616d0a3e7",
   "metadata": {},
   "outputs": [],
   "source": [
    "## Event synchronization\n",
    "neighbors = grid.active_adjacent_nodes_at_node[node_id_at_work]\n"
   ]
  },
  {
   "cell_type": "code",
   "execution_count": 112,
   "id": "2ae0d195-df0e-4cbb-88bb-5997cae40f50",
   "metadata": {},
   "outputs": [
    {
     "data": {
      "text/plain": [
       "array([-1, 10, -1,  4, 11,  9,  3,  5])"
      ]
     },
     "execution_count": 112,
     "metadata": {},
     "output_type": "execute_result"
    }
   ],
   "source": [
    "for neighbor in neighbors:\n",
    "    if neighbor>=0: # i.e., not a boundary\n",
    "        \n",
    "        delta_f = R[neighbor] * (node_next_update_time - t_clock)\n",
    "        delta_f_cap = flux_capacitor[neighbor] + delta_f\n",
    "        topo[neighbor] += delta_f\n",
    "\n",
    "        if np.abs(delta_f_cap) >= delta_f_threhold:\n",
    "            flux_capacitor[neighbor] = 0.0\n",
    "            # call event synchorization\n",
    "        else:\n",
    "            link = find_common_link(grid, node_id_at_work, neighbor)\n",
    "            topo_grad_at_link[link] = topo[grid.node_at_link_head[link]] - topo[grid.node_at_link_tail[link]]\n",
    "            sediment_flux[link] = topo_grad_at_link[link] * grid.link_dirs_at_node[link] * diffusivity\n",
    "            \n",
    "            fluxes_out = np.greater(sediment_flux[grid.links_at_node[neighbor]],\n",
    "                                   0, out = np.zeros_like(grid.links_at_node[neighbor]))\n",
    "                        \n",
    "            fluxes_in = np.greater(-sediment_flux[grid.links_at_node[neighbor]],\n",
    "                                   0, out = np.zeros_like(grid.links_at_node[neighbor]))\n",
    "            \n",
    "            R[neighbor] = ((np.sum(fluxes_in) - np.sum(fluxes_out)) / grid.dx) + uplift_rate\n"
   ]
  },
  {
   "cell_type": "code",
   "execution_count": 56,
   "id": "22f6f8ba-2316-4943-8bc5-9bc7afad9d04",
   "metadata": {},
   "outputs": [],
   "source": [
    "def find_common_link(grid, node_a, node_b):\n",
    "    try_tail = grid.node_at_link_tail[grid.links_at_node[node_a]] == node_b\n",
    "    try_head = grid.node_at_link_head[grid.links_at_node[node_a]] == node_b\n",
    "\n",
    "    if np.any(try_tail):\n",
    "        return grid.links_at_node[node_a][try_tail][0]\n",
    "    elif np.any(try_head):\n",
    "        return grid.links_at_node[node_a][try_head][0]\n",
    "    else:\n",
    "        return -1\n",
    "        "
   ]
  },
  {
   "cell_type": "code",
   "execution_count": 80,
   "id": "886df381-df3e-45a8-953d-a54a0685903a",
   "metadata": {},
   "outputs": [],
   "source": [
    "## Event scheduling\n",
    "# Calc out and in fluxes\n",
    "sediment_flux[grid.links_at_node[node_id_at_work]] = topo_grad_at_link[grid.links_at_node[node_id_at_work]] * grid.link_dirs_at_node[node_id_at_work] * diffusivity\n",
    "\n",
    "fluxes_out = np.greater(sediment_flux[grid.links_at_node[node_id_at_work]],\n",
    "                       0, out = np.zeros_like(grid.links_at_node[node_id_at_work]))\n",
    "            \n",
    "fluxes_in = np.greater(-sediment_flux[grid.links_at_node[node_id_at_work]],\n",
    "                       0, out = np.zeros_like(grid.links_at_node[node_id_at_work]))\n",
    "\n",
    "R[node_id_at_work] = ((np.sum(fluxes_in) - np.sum(fluxes_out)) / grid.dx) + uplift_rate\n",
    "\n",
    "delta_f_cfl = np.abs(R[node_id_at_work]) * _Wcfl * cfl_dt_at_nodes[node_id_at_work]\n",
    "if delta_f_cfl< epsilon:\n",
    "    continue\n",
    "else:\n",
    "    delta_f_p_threshold  = delta_f_cfl\n",
    "    topo_neighbors_min = np.min(topo[neighbors])\n",
    "    topo_neighbors_max = np.max(topo[neighbors])\n",
    "\n",
    "    lambda_t = np.min(np.divide(topo_neighbors_min,delta_f_p_threshold), lamda_min)\n",
    "    if lambda_t > 1:\n",
    "        delta_f_p_threshold = np.max(delta_f_p_threshold,np.min(np.divide(topo_neighbors_min,lambda_t),w_lim*(topo_neighbors_max-topo_neighbors_min)))\n",
    "    \n",
    "    delta_f_p_threshold = np.min(delta_f_max,delta_f_p_threshold)\n",
    "\n",
    "\n",
    "\n",
    "\n",
    "\n"
   ]
  },
  {
   "cell_type": "code",
   "execution_count": 79,
   "id": "15cd4daa-35c6-4e26-a2a8-0a0b8b53cb9f",
   "metadata": {},
   "outputs": [
    {
     "data": {
      "text/plain": [
       "1"
      ]
     },
     "execution_count": 79,
     "metadata": {},
     "output_type": "execute_result"
    }
   ],
   "source": []
  },
  {
   "cell_type": "code",
   "execution_count": 61,
   "id": "1bea3f26-41ca-4f94-8f5e-da9f3b2f8ac5",
   "metadata": {},
   "outputs": [
    {
     "ename": "AttributeError",
     "evalue": "'RasterModelGrid' object has no attribute 'dir_at_links'",
     "output_type": "error",
     "traceback": [
      "\u001b[0;31m---------------------------------------------------------------------------\u001b[0m",
      "\u001b[0;31mAttributeError\u001b[0m                            Traceback (most recent call last)",
      "Cell \u001b[0;32mIn[61], line 1\u001b[0m\n\u001b[0;32m----> 1\u001b[0m \u001b[43mgrid\u001b[49m\u001b[38;5;241;43m.\u001b[39;49m\u001b[43mdir_at_links\u001b[49m\n",
      "\u001b[0;31mAttributeError\u001b[0m: 'RasterModelGrid' object has no attribute 'dir_at_links'"
     ]
    }
   ],
   "source": [
    "grid.dir_at_links\n"
   ]
  },
  {
   "cell_type": "code",
   "execution_count": null,
   "id": "83f62b70-10ea-46f1-93f1-3067ac4f560e",
   "metadata": {},
   "outputs": [],
   "source": []
  }
 ],
 "metadata": {
  "kernelspec": {
   "display_name": "Python 3 (ipykernel)",
   "language": "python",
   "name": "python3"
  },
  "language_info": {
   "codemirror_mode": {
    "name": "ipython",
    "version": 3
   },
   "file_extension": ".py",
   "mimetype": "text/x-python",
   "name": "python",
   "nbconvert_exporter": "python",
   "pygments_lexer": "ipython3",
   "version": "3.10.14"
  }
 },
 "nbformat": 4,
 "nbformat_minor": 5
}
